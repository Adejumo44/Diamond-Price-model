{
 "cells": [
  {
   "cell_type": "code",
   "execution_count": 4,
   "id": "1b90d65f",
   "metadata": {},
   "outputs": [
    {
     "name": "stdout",
     "output_type": "stream",
     "text": [
      "Running on local URL:  http://127.0.0.1:7863\n",
      "Running on public URL: https://8f956ef135980822.gradio.app\n",
      "\n",
      "This share link expires in 72 hours. For free permanent hosting and GPU upgrades (NEW!), check out Spaces: https://huggingface.co/spaces\n"
     ]
    },
    {
     "data": {
      "text/html": [
       "<div><iframe src=\"https://8f956ef135980822.gradio.app\" width=\"100%\" height=\"500\" allow=\"autoplay; camera; microphone; clipboard-read; clipboard-write;\" frameborder=\"0\" allowfullscreen></iframe></div>"
      ],
      "text/plain": [
       "<IPython.core.display.HTML object>"
      ]
     },
     "metadata": {},
     "output_type": "display_data"
    },
    {
     "data": {
      "text/plain": [
       "(<gradio.routes.App at 0x19a311ecbe0>,\n",
       " 'http://127.0.0.1:7863/',\n",
       " 'https://8f956ef135980822.gradio.app')"
      ]
     },
     "execution_count": 4,
     "metadata": {},
     "output_type": "execute_result"
    }
   ],
   "source": [
    "#importing the necessary libraries\n",
    "import gradio as gr\n",
    "import pickle\n",
    "import numpy as np\n",
    "#creating the prediction function\n",
    "def make_prediction(carat, cut, color, clarity,depth, table, x, y, z):\n",
    "    with open(\"diamond price model.json\", \"rb\") as f:\n",
    "        model  = pickle.load(f)\n",
    "        x = np.array([carat, cut, color, clarity, depth, table, x, y, z])\n",
    "        x = x.reshape(1,-1)\n",
    "        preds = model.predict(x)\n",
    "        return(preds)\n",
    "#creating the input labels\n",
    "carat_input = gr.Number(label = \"enter carat value\")\n",
    "cut_input = gr.Number(label = \"enter cut value: {1: for Ideal, 2: for Premium, 3: for Very Good, 4: for Good, 5: for Fair}\")\n",
    "color_input = gr.Number(label = \"enter color:{1: for G, 2: for E, 3: for F, 4: for H, 5: for D, 6: for I, 7: for J} \")\n",
    "clarity_input = gr.Number(label = \"enter clarity:{1: for SI1, 2: for VS2, 3: for SI2, 4: for VS1, 5: for VVS2, 6: for VVS1,7: for IF, 8: for I1} \")\n",
    "depth_input = gr.Number(label = 'enter depth')\n",
    "table_input = gr.Number(label = 'enter table value')\n",
    "x_input = gr.Number(label = 'enter x')\n",
    "y_input = gr.Number(label = 'enter y')\n",
    "z_input = gr.Number(label = 'enter z')\n",
    "output = gr.Textbox()\n",
    "app = gr.Interface(fn = make_prediction, inputs = [carat_input, cut_input,color_input,clarity_input,depth_input,table_input,x_input,\n",
    "                                               y_input,  z_input], outputs = output)\n",
    "#launching the web app\n",
    "app.launch(share = True)"
   ]
  },
  {
   "cell_type": "raw",
   "id": "3b5f7e84",
   "metadata": {},
   "source": []
  },
  {
   "cell_type": "code",
   "execution_count": null,
   "id": "06adf14e",
   "metadata": {},
   "outputs": [],
   "source": []
  }
 ],
 "metadata": {
  "kernelspec": {
   "display_name": "Python 3 (ipykernel)",
   "language": "python",
   "name": "python3"
  },
  "language_info": {
   "codemirror_mode": {
    "name": "ipython",
    "version": 3
   },
   "file_extension": ".py",
   "mimetype": "text/x-python",
   "name": "python",
   "nbconvert_exporter": "python",
   "pygments_lexer": "ipython3",
   "version": "3.9.12"
  }
 },
 "nbformat": 4,
 "nbformat_minor": 5
}
